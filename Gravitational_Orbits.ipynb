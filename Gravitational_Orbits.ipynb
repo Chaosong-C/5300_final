{
 "cells": [
  {
   "cell_type": "markdown",
   "metadata": {},
   "source": [
    "# Gravitational orbits"
   ]
  },
  {
   "cell_type": "code",
   "execution_count": 1,
   "metadata": {},
   "outputs": [],
   "source": [
    "%matplotlib inline\n",
    "import numpy as np\n",
    "import matplotlib.pyplot as plt\n",
    "from numpy import sin, cos\n",
    "from scipy.integrate import solve_ivp\n",
    "\n",
    "# Change the common font size\n",
    "font_size = 12\n",
    "plt.rcParams.update({'font.size': font_size})"
   ]
  },
  {
   "cell_type": "code",
   "execution_count": 2,
   "metadata": {},
   "outputs": [],
   "source": [
    "def plot_y_vs_x(x, y, axis_labels=None, label=None, title=None, \n",
    "                color=None, linestyle=None, semilogy=False, loglog=False,\n",
    "                ax=None):\n",
    "    \"\"\"\n",
    "    Generic plotting function: return a figure axis with a plot of y vs. x,\n",
    "    with line color and style, title, axis labels, and line label\n",
    "    \"\"\"\n",
    "    if ax is None:        # if the axis object doesn't exist, make one\n",
    "        ax = plt.gca()\n",
    "\n",
    "    if (semilogy):\n",
    "        line, = ax.semilogy(x, y, label=label, \n",
    "                            color=color, linestyle=linestyle)\n",
    "    elif (loglog):\n",
    "        line, = ax.loglog(x, y, label=label, \n",
    "                          color=color, linestyle=linestyle)\n",
    "    else:\n",
    "        line, = ax.plot(x, y, label=label, \n",
    "                    color=color, linestyle=linestyle)\n",
    "\n",
    "    if label is not None:    # if a label if passed, show the legend\n",
    "        ax.legend()\n",
    "    if title is not None:    # set a title if one if passed\n",
    "        ax.set_title(title)\n",
    "    if axis_labels is not None:  # set x-axis and y-axis labels if passed  \n",
    "        ax.set_xlabel(axis_labels[0])\n",
    "        ax.set_ylabel(axis_labels[1])\n",
    "\n",
    "    return ax, line"
   ]
  },
  {
   "cell_type": "code",
   "execution_count": 3,
   "metadata": {},
   "outputs": [],
   "source": [
    "def start_stop_indices(t_pts, plot_start, plot_stop):\n",
    "    start_index = (np.fabs(t_pts-plot_start)).argmin()  # index in t_pts array \n",
    "    stop_index = (np.fabs(t_pts-plot_stop)).argmin()  # index in t_pts array \n",
    "    return start_index, stop_index"
   ]
  },
  {
   "cell_type": "code",
   "execution_count": 4,
   "metadata": {},
   "outputs": [],
   "source": [
    "class Orbit:\n",
    "    \"\"\"\n",
    "    Potentials and associated differential equations for central force motion\n",
    "    with the potential U(r) = -GMm/r.  Several algorithms for integration of \n",
    "    ordinary differential equations are now available. \n",
    "    \"\"\"\n",
    "    def __init__(self, G, m1, m2):\n",
    "        self.G = G\n",
    "        self.m1 = m1\n",
    "        self.m2 = m2\n",
    "        #mass1 and mass2\n",
    "        \n",
    "        \n",
    "    def U(self, x_1, y_1, x_2, y_2):\n",
    "        \"\"\"Potential energy of the form U = -GMm/r.\"\"\"\n",
    "        r = np.sqrt((x_1 - x_2)**2 + (y_1 - y_2)**2)\n",
    "        return -(self.G * self.m1 * self.m2) / r\n",
    "            \n",
    "        \n",
    "    def energy(self, t_pts, x1, x1_dot, y1, y1_dot, x2, x2_dot, y2, y2_dot):\n",
    "        \"\"\"Evaluate the energy as a function of time\"\"\"\n",
    "        return self.m1 * (x1_dot**2 + y1_dot**2)/2. + self.m2 * (x2_dot**2 + y2_dot**2)/2. + self.U(x1, y1, x2, y2)\n",
    "    \n",
    "    \n",
    "    def dy_dt(self, t, y):\n",
    "        \"\"\"\n",
    "        Parameters\n",
    "        ----------\n",
    "        t : float\n",
    "            time \n",
    "        y : float\n",
    "            8-component vector with y[0] = x1(t), y[1] = dx1/dt, y[2] = y1(t), y[3] = dy1/dt,\n",
    "            y[4] = x2(t), y[5] = dx2/dt, y[6] = y2(t), y[7] = dy2/dt,\n",
    "            \n",
    "        \"\"\"\n",
    "        A = np.sqrt((y[0]-y[4])**2+(y[2]-y[6])**2)\n",
    "        \n",
    "        return [y[1], self.G *self.m2 * (y[4]-y[0])/A**3, y[3], self.G *self.m2 * (y[6]-y[2])/A**3,y[5], -self.G *self.m1 * (y[4]-y[0])/A**3,y[7], -self.G *self.m1 * (y[6]-y[2])/A**3]\n",
    "    \n",
    "    \n",
    "    def solve_ode(self, t_pts, x_1_0, x_1_dot_0, \n",
    "                  y_1_0,y_1_dot_0, x_2_0,x_2_dot_0,\n",
    "                  y_2_0,y_2_dot_0, abserr=1.0e-8, relerr=1.0e-8):\n",
    "        \"\"\"\n",
    "        Solve the ODE given initial conditions.\n",
    "        Specify smaller abserr and relerr to get more precision.\n",
    "        \"\"\"\n",
    "        y = [x_1_0, x_1_dot_0,y_1_0, y_1_dot_0, x_2_0,x_2_dot_0,y_2_0,y_2_dot_0] \n",
    "        solution = solve_ivp(self.dy_dt, (t_pts[0], t_pts[-1]), \n",
    "                             y, t_eval=t_pts, \n",
    "                             atol=abserr, rtol=relerr)\n",
    "        x_1, x_dot_1, y_1, y_dot_1, x_2, x_dot_2, y_2, y_dot_2 = solution.y\n",
    "\n",
    "        return x_1, x_dot_1, y_1, y_dot_1, x_2, x_dot_2, y_2, y_dot_2\n",
    "    \n",
    "##############################################################################################################\n",
    "# below is Leapfrop method\n",
    "    def solve_ode_Leapfrog(self, t_pts, x_1_0, x_1_dot_0, y_1_0, y_1_dot_0, x_2_0, x_2_dot_0, y_2_0, y_2_dot_0):\n",
    "        \"\"\"\n",
    "        Solve the ODE given initial conditions with the Leapfrog method.\n",
    "        \"\"\"\n",
    "        delta_t = t_pts[1] - t_pts[0]\n",
    "        \n",
    "        # initialize the arrays with zeros\n",
    "        num_t_pts = len(t_pts)\n",
    "        x_1 = np.zeros(num_t_pts)\n",
    "        x_1_dot = np.zeros(num_t_pts)\n",
    "        x_1_dot_half = np.zeros(num_t_pts)\n",
    "        x_2 = np.zeros(num_t_pts)\n",
    "        x_2_dot = np.zeros(num_t_pts)\n",
    "        x_2_dot_half = np.zeros(num_t_pts)\n",
    "        y_1 = np.zeros(num_t_pts)\n",
    "        y_1_dot = np.zeros(num_t_pts)\n",
    "        y_1_dot_half = np.zeros(num_t_pts)\n",
    "        y_2 = np.zeros(num_t_pts)\n",
    "        y_2_dot = np.zeros(num_t_pts)\n",
    "        y_2_dot_half = np.zeros(num_t_pts)\n",
    "        \n",
    "        # initial conditions\n",
    "        x_1[0] = x_1_0\n",
    "        x_1_dot[0] = x_1_dot_0\n",
    "        x_2[0] = x_2_0\n",
    "        x_2_dot[0] = x_2_dot_0\n",
    "        y_1[0] = y_1_0\n",
    "        y_1_dot[0] = y_1_dot_0\n",
    "        y_2[0] = y_2_0\n",
    "        y_2_dot[0] = y_2_dot_0\n",
    "        \n",
    "        # step through the differential equation\n",
    "        for i in np.arange(num_t_pts - 1):\n",
    "            t = t_pts[i]\n",
    "            y = [x_1[i], x_1_dot[i], y_1[i], y_1_dot[i], x_2[i], x_2_dot[i], y_2[i], y_2_dot[i]]\n",
    "            x_1_dot_half[i] = x_1_dot[i] + self.dy_dt(t, y)[1] * delta_t/2.\n",
    "            x_1[i+1] = x_1[i] + x_1_dot_half[i] * delta_t\n",
    "            x_2_dot_half[i] = x_2_dot[i] + self.dy_dt(t, y)[5] * delta_t/2.\n",
    "            x_2[i+1] = x_2[i] + x_2_dot_half[i] * delta_t\n",
    "            y_1_dot_half[i] = y_1_dot[i] + self.dy_dt(t, y)[3] * delta_t/2.\n",
    "            y_1[i+1] = y_1[i] + y_1_dot_half[i] * delta_t\n",
    "            y_2_dot_half[i] = y_2_dot[i] + self.dy_dt(t, y)[7] * delta_t/2.\n",
    "            y_2[i+1] = y_2[i] + y_2_dot_half[i] * delta_t           \n",
    "            y = [x_1[i+1], x_1_dot[i], y_1[i+1], y_1_dot[i], x_2[i+1], x_2_dot[i], y_2[i+1], y_2_dot[i]]\n",
    "            x_1_dot[i+1] = x_1_dot_half[i] + self.dy_dt(t, y)[1] * delta_t/2.\n",
    "            x_2_dot[i+1] = x_2_dot_half[i] + self.dy_dt(t, y)[5] * delta_t/2.\n",
    "            y_1_dot[i+1] = y_1_dot_half[i] + self.dy_dt(t, y)[3] * delta_t/2.\n",
    "            y_2_dot[i+1] = y_2_dot_half[i] + self.dy_dt(t, y)[7] * delta_t/2.\n",
    "\n",
    "        return x_1, x_1_dot, y_1, y_1_dot, x_2, x_2_dot, y_2, y_2_dot"
   ]
  },
  {
   "cell_type": "markdown",
   "metadata": {},
   "source": [
    "Notice consider the case mass1(like sun) >> mass2(like earth), we have:"
   ]
  },
  {
   "cell_type": "code",
   "execution_count": 5,
   "metadata": {
    "scrolled": true
   },
   "outputs": [
    {
     "name": "stderr",
     "output_type": "stream",
     "text": [
      "C:\\ProgramData\\Anaconda3\\lib\\site-packages\\IPython\\core\\pylabtools.py:128: UserWarning: Creating legend with loc=\"best\" can be slow with large amounts of data.\n",
      "  fig.canvas.print_figure(bytes_io, **kw)\n"
     ]
    },
    {
     "data": {
      "image/png": "[encoded data removed]",
      "text/plain": [
       "<Figure size 432x288 with 1 Axes>"
      ]
     },
     "metadata": {
      "needs_background": "light"
     },
     "output_type": "display_data"
    },
    {
     "name": "stdout",
     "output_type": "stream",
     "text": [
      "energy = -87.58\n"
     ]
    }
   ],
   "source": [
    "# Common plotting time\n",
    "t_start = 0.\n",
    "t_end = 10.\n",
    "delta_t = 0.0001\n",
    "\n",
    "t_pts = np.arange(t_start, t_end+delta_t, delta_t)  \n",
    "\n",
    "# Make an orbit\n",
    "#############################################################\n",
    "#change G,m1,m2 and initial conditions here!\n",
    "m1 = 20.\n",
    "m2 = 1.\n",
    "G = 20.\n",
    "o1 = Orbit(G, m1=m1, m2=m2)\n",
    "x_1_0 = 0.1 \n",
    "x_1_dot_0 = 0.\n",
    "y_1_0 = 0.\n",
    "y_1_dot_0 = 0.7\n",
    "x_2_0 = - (m1/m2) * x_1_0 \n",
    "x_2_dot_0 = - (m1/m2) * x_1_dot_0\n",
    "y_2_0 = - (m1/m2) * y_1_0 \n",
    "y_2_dot_0 = - (m1/m2) * y_1_dot_0\n",
    "#############################################################\n",
    "\n",
    "x_1, x_dot_1, y_1, y_dot_1, x_2, x_dot_2, y_2, y_dot_2 = o1.solve_ode(t_pts,x_1_0, x_1_dot_0,y_1_0,y_1_dot_0,x_2_0,x_2_dot_0,y_2_0,y_2_dot_0)\n",
    "\n",
    "\n",
    "# Make figures of x1 vs y1 and x2 vs y2\n",
    "plt.subplot(1,1,1)\n",
    "plt.plot(x_1,y_1,'red',label='$body_1$')\n",
    "plt.plot(x_2,y_2,'blue',label='$body_2$')\n",
    "plt.xlabel('$x$')\n",
    "plt.ylabel('$y$')\n",
    "plt.legend()\n",
    "plt.show()\n",
    "\n",
    "x_1_pts_LF, x_1_dot_pts_LF, y_1_pts_LF, y_1_dot_pts_LF, x_2_pts_LF, x_2_dot_pts_LF, y_2_pts_LF, y_2_dot_pts_LF = o1.solve_ode_Leapfrog(t_pts, x_1_0, x_1_dot_0, y_1_0, y_1_dot_0, x_2_0, x_2_dot_0, y_2_0, y_2_dot_0)\n",
    "\n",
    "energy_0 = o1.m1 * (x_1_dot_0**2 + y_1_dot_0**2)/2. + o1.m2 * (x_2_dot_0**2 + y_2_dot_0**2)/2. + o1.U(x_1_0, y_1_0, x_2_0, y_2_0)\n",
    "print(f'energy = {energy_0:.2f}')"
   ]
  },
  {
   "cell_type": "markdown",
   "metadata": {},
   "source": [
    "## Energy Conservation"
   ]
  },
  {
   "cell_type": "code",
   "execution_count": 6,
   "metadata": {},
   "outputs": [
    {
     "name": "stderr",
     "output_type": "stream",
     "text": [
      "C:\\ProgramData\\Anaconda3\\lib\\site-packages\\ipykernel_launcher.py:32: UserWarning: Creating legend with loc=\"best\" can be slow with large amounts of data.\n",
      "C:\\ProgramData\\Anaconda3\\lib\\site-packages\\IPython\\core\\events.py:88: UserWarning: Creating legend with loc=\"best\" can be slow with large amounts of data.\n",
      "  func(*args, **kwargs)\n"
     ]
    },
    {
     "data": {
      "image/png": "[encoded data removed]",
      "text/plain": [
       "<Figure size 432x432 with 1 Axes>"
      ]
     },
     "metadata": {
      "needs_background": "light"
     },
     "output_type": "display_data"
    }
   ],
   "source": [
    "E_tot_pts = o1.energy(t_pts, x_1, x_1_dot_0, y_1, y_1_dot_0, x_2, x_2_dot_0, y_2, y_2_dot_0 )\n",
    "E_tot_0 = E_tot_pts[0]\n",
    "E_tot_rel_pts = np.abs((E_tot_pts - E_tot_0)/E_tot_0)\n",
    "E_tot_pts_LF = o1.energy(t_pts, x_1_pts_LF, x_1_dot_pts_LF, y_1_pts_LF, y_1_dot_pts_LF, x_2_pts_LF, x_2_dot_pts_LF, y_2_pts_LF, y_2_dot_pts_LF)\n",
    "E_tot_0_LF = E_tot_pts_LF[0]\n",
    "E_tot_rel_pts_LF = np.abs((E_tot_pts_LF - E_tot_0_LF)/E_tot_0_LF)\n",
    "\n",
    "fig_2 = plt.figure(figsize=(6,6))\n",
    "overall_title = 'Orbit:  ' + \\\n",
    "                rf' $G = {o1.G},$' + \\\n",
    "                rf' $m1 = {o1.m1:.1f},$' + \\\n",
    "                rf' $m2 = {o1.m2:.1f},$' + \\\n",
    "                '\\n' + \\\n",
    "                rf' $x1_0 = {x_1_0:.1f},$' + \\\n",
    "                rf' $\\dot x1_0 = {x_1_dot_0:.1f},$' + \\\n",
    "                rf' $y1_0 = {y_1_0:.1f},$' + \\\n",
    "                rf' $\\dot y1_0 = {y_1_dot_0:.1f},$' + \\\n",
    "                '\\n' + \\\n",
    "                rf' $x2_0 = {x_2_0:.1f},$' + \\\n",
    "                rf' $\\dot x2_0 = {x_2_dot_0:.1f},$' + \\\n",
    "                rf' $y2_0 = {y_2_0:.1f},$' + \\\n",
    "                rf' $\\dot y2_0 = {y_2_dot_0:.1f},$' + \\\n",
    "                '\\n'     # \\n means a new line (adds some space here)\n",
    "fig_2.suptitle(overall_title, va='baseline')\n",
    "ax_2a = fig_2.add_subplot(1,1,1)\n",
    "ax_2a.semilogy(t_pts, E_tot_rel_pts,color='blue', label=r'$\\Delta E(t)$ RK23')\n",
    "ax_2a.semilogy(t_pts, E_tot_rel_pts_LF,color='red', label=r'$\\Delta E(t)$ Leapfrog')\n",
    "ax_2a.set_xlabel(r'$t$')\n",
    "ax_2a.set_ylabel(r'Energy')\n",
    "ax_2a.set_title('energy change with time')\n",
    "ax_2a.legend()\n",
    "fig_2.tight_layout()"
   ]
  },
  {
   "cell_type": "code",
   "execution_count": null,
   "metadata": {},
   "outputs": [],
   "source": []
  },
  {
   "cell_type": "code",
   "execution_count": null,
   "metadata": {},
   "outputs": [],
   "source": []
  }
 ],
 "metadata": {
  "kernelspec": {
   "display_name": "Python 3",
   "language": "python",
   "name": "python3"
  },
  "language_info": {
   "codemirror_mode": {
    "name": "ipython",
    "version": 3
   },
   "file_extension": ".py",
   "mimetype": "text/x-python",
   "name": "python",
   "nbconvert_exporter": "python",
   "pygments_lexer": "ipython3",
   "version": "3.7.4"
  }
 },
 "nbformat": 4,
 "nbformat_minor": 2
}
